{
 "cells": [
  {
   "cell_type": "code",
   "execution_count": 1,
   "id": "4aedf3f1",
   "metadata": {},
   "outputs": [],
   "source": [
    "## Question 1\n",
    "## write a conditional expression that compares x and y and \n",
    "## prints \"x is larger than y\" if x is larger than y or\n",
    "## prints \"x is smaller than y\" if x is smaller than y\n",
    "\n",
    "x = 10\n",
    "y = 15"
   ]
  },
  {
   "cell_type": "code",
   "execution_count": 9,
   "id": "2ebb806d",
   "metadata": {},
   "outputs": [
    {
     "name": "stdout",
     "output_type": "stream",
     "text": [
      "x is smaller than y\n"
     ]
    }
   ],
   "source": [
    "x > y, x < y\n",
    "\n",
    "if x > y:\n",
    "    outcome = \"x is larger than y\"\n",
    "else:\n",
    "    outcome = \"x is smaller than y\"\n",
    "    \n",
    "print(outcome)"
   ]
  },
  {
   "cell_type": "code",
   "execution_count": 21,
   "id": "edf2362d",
   "metadata": {},
   "outputs": [],
   "source": [
    "## Question 2\n",
    "## write a for loop that prints the values in this list but increases each number by 5\n",
    "numbers = [1, 6, 11, 16, 21]"
   ]
  },
  {
   "cell_type": "code",
   "execution_count": 23,
   "id": "94ced739",
   "metadata": {},
   "outputs": [
    {
     "data": {
      "text/plain": [
       "[6, 11, 16, 21, 26]"
      ]
     },
     "execution_count": 23,
     "metadata": {},
     "output_type": "execute_result"
    }
   ],
   "source": [
    "new_numbers = []\n",
    "\n",
    "for each_value in numbers:\n",
    "    each_value = each_value + 5\n",
    "    new_numbers.append(each_value)\n",
    "\n",
    "new_numbers"
   ]
  },
  {
   "cell_type": "code",
   "execution_count": 32,
   "id": "45387665",
   "metadata": {},
   "outputs": [
    {
     "name": "stdout",
     "output_type": "stream",
     "text": [
      "144.24\n"
     ]
    }
   ],
   "source": [
    "## Question 3\n",
    "## add these two numbers together and round to 2 decimal places\n",
    "number_1 = 42.569783\n",
    "number_2 = 101.668342\n",
    "\n",
    "print(f\"{number_1 + number_2:.2f}\")"
   ]
  }
 ],
 "metadata": {
  "kernelspec": {
   "display_name": "Python 3 (ipykernel)",
   "language": "python",
   "name": "python3"
  },
  "language_info": {
   "codemirror_mode": {
    "name": "ipython",
    "version": 3
   },
   "file_extension": ".py",
   "mimetype": "text/x-python",
   "name": "python",
   "nbconvert_exporter": "python",
   "pygments_lexer": "ipython3",
   "version": "3.9.7"
  }
 },
 "nbformat": 4,
 "nbformat_minor": 5
}
