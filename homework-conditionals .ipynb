{
 "cells": [
  {
   "cell_type": "code",
   "execution_count": 1,
   "id": "5187cfed",
   "metadata": {},
   "outputs": [],
   "source": [
    "## Question 1\n",
    "## write a conditional expression that compares x and y and \n",
    "## prints \"x is larger than y\" if x is larger than y or\n",
    "## prints \"x is smaller than y\" if x is smaller than y\n",
    "\n",
    "x = 10\n",
    "y = 15"
   ]
  },
  {
   "cell_type": "code",
   "execution_count": 9,
   "id": "9c5cfed4",
   "metadata": {},
   "outputs": [
    {
     "name": "stdout",
     "output_type": "stream",
     "text": [
      "x is smaller than y\n"
     ]
    }
   ],
   "source": [
    "x > y, x < y\n",
    "\n",
    "if x > y:\n",
    "    outcome = \"x is larger than y\"\n",
    "else:\n",
    "    outcome = \"x is smaller than y\"\n",
    "    \n",
    "print(outcome)"
   ]
  },
  {
   "cell_type": "code",
   "execution_count": 3,
   "id": "9482754f",
   "metadata": {},
   "outputs": [],
   "source": [
    "## Question 2\n",
    "## write a for loop that prints the values in this list but increases each number by 5\n",
    "numbers = [1, 6, 11, 16, 21]"
   ]
  },
  {
   "cell_type": "code",
   "execution_count": null,
   "id": "2e601da5",
   "metadata": {},
   "outputs": [],
   "source": [
    "## Question 3\n",
    "## add these two numbers together and round to 2 decimal places\n",
    "number_1 = 42.569783\n",
    "number_2 = 101.668342"
   ]
  }
 ],
 "metadata": {
  "kernelspec": {
   "display_name": "Python 3 (ipykernel)",
   "language": "python",
   "name": "python3"
  },
  "language_info": {
   "codemirror_mode": {
    "name": "ipython",
    "version": 3
   },
   "file_extension": ".py",
   "mimetype": "text/x-python",
   "name": "python",
   "nbconvert_exporter": "python",
   "pygments_lexer": "ipython3",
   "version": "3.9.7"
  }
 },
 "nbformat": 4,
 "nbformat_minor": 5
}
